{
 "cells": [
  {
   "cell_type": "code",
   "execution_count": 3,
   "id": "06cf7a6b",
   "metadata": {},
   "outputs": [
    {
     "name": "stdout",
     "output_type": "stream",
     "text": [
      "Simple Calculator\n",
      "Operations: +  -  *  /\n",
      "Result: 15.0\n"
     ]
    }
   ],
   "source": [
    "def calculator():\n",
    "    print(\"Simple Calculator\")\n",
    "    print(\"Operations: +  -  *  /\")\n",
    "    \n",
    "    try:\n",
    "        num1 = float(input(\"Enter first number: \"))\n",
    "        op = input(\"Enter operation (+, -, *, /): \")\n",
    "        num2 = float(input(\"Enter second number: \"))\n",
    "\n",
    "        if op == \"+\":\n",
    "            result = num1 + num2\n",
    "        elif op == \"-\":\n",
    "            result = num1 - num2\n",
    "        elif op == \"*\":\n",
    "            result = num1 * num2\n",
    "        elif op == \"/\":\n",
    "            if num2 != 0:\n",
    "                result = num1 / num2\n",
    "            else:\n",
    "                print(\"Error: Division by zero\")\n",
    "                return\n",
    "        else:\n",
    "            print(\"Invalid operation\")\n",
    "            return\n",
    "\n",
    "        print(f\"Result: {result}\")\n",
    "\n",
    "    except ValueError:\n",
    "        print(\"Invalid input. Please enter numbers.\")\n",
    "\n",
    "# Run the calculator\n",
    "calculator()"
   ]
  }
 ],
 "metadata": {
  "kernelspec": {
   "display_name": "Python 3",
   "language": "python",
   "name": "python3"
  },
  "language_info": {
   "codemirror_mode": {
    "name": "ipython",
    "version": 3
   },
   "file_extension": ".py",
   "mimetype": "text/x-python",
   "name": "python",
   "nbconvert_exporter": "python",
   "pygments_lexer": "ipython3",
   "version": "3.13.4"
  }
 },
 "nbformat": 4,
 "nbformat_minor": 5
}

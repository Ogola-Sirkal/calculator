{
 "cells": [
  {
   "cell_type": "code",
   "execution_count": 4,
   "id": "06cf7a6b",
   "metadata": {},
   "outputs": [
    {
     "name": "stdout",
     "output_type": "stream",
     "text": [
      "Complex Calculator\n",
      "Available operations: +  -  *  /  ^  sqrt  log  sin  cos  tan\n",
      "Type 'exit' to quit.\n",
      "\n",
      "Result: 5.0\n",
      "\n",
      "Calculator closed.\n"
     ]
    }
   ],
   "source": [
    "import math\n",
    "\n",
    "def calculator():\n",
    "    print(\"Complex Calculator\")\n",
    "    print(\"Available operations: +  -  *  /  ^  sqrt  log  sin  cos  tan\")\n",
    "    print(\"Type 'exit' to quit.\\n\")\n",
    "\n",
    "    while True:\n",
    "        op = input(\"Enter operation: \").strip().lower()\n",
    "\n",
    "        if op == \"exit\":\n",
    "            print(\"Calculator closed.\")\n",
    "            break\n",
    "\n",
    "        try:\n",
    "            if op in [\"+\", \"-\", \"*\", \"/\", \"^\"]:\n",
    "                num1 = float(input(\"Enter first number: \"))\n",
    "                num2 = float(input(\"Enter second number: \"))\n",
    "\n",
    "                if op == \"+\":\n",
    "                    result = num1 + num2\n",
    "                elif op == \"-\":\n",
    "                    result = num1 - num2\n",
    "                elif op == \"*\":\n",
    "                    result = num1 * num2\n",
    "                elif op == \"/\":\n",
    "                    if num2 != 0:\n",
    "                        result = num1 / num2\n",
    "                    else:\n",
    "                        print(\"Error: Division by zero.\")\n",
    "                        continue\n",
    "                elif op == \"^\":\n",
    "                    result = math.pow(num1, num2)\n",
    "\n",
    "            elif op == \"sqrt\":\n",
    "                num = float(input(\"Enter number: \"))\n",
    "                if num >= 0:\n",
    "                    result = math.sqrt(num)\n",
    "                else:\n",
    "                    print(\"Error: Cannot compute square root of a negative number.\")\n",
    "                    continue\n",
    "\n",
    "            elif op == \"log\":\n",
    "                num = float(input(\"Enter number: \"))\n",
    "                if num > 0:\n",
    "                    result = math.log(num)\n",
    "                else:\n",
    "                    print(\"Error: Logarithm undefined for zero or negative numbers.\")\n",
    "                    continue\n",
    "\n",
    "            elif op in [\"sin\", \"cos\", \"tan\"]:\n",
    "                angle = float(input(\"Enter angle in degrees: \"))\n",
    "                rad = math.radians(angle)\n",
    "                if op == \"sin\":\n",
    "                    result = math.sin(rad)\n",
    "                elif op == \"cos\":\n",
    "                    result = math.cos(rad)\n",
    "                elif op == \"tan\":\n",
    "                    result = math.tan(rad)\n",
    "\n",
    "            else:\n",
    "                print(\"Invalid operation. Try again.\")\n",
    "                continue\n",
    "\n",
    "            print(f\"Result: {result}\\n\")\n",
    "\n",
    "        except ValueError:\n",
    "            print(\"Invalid input. Please enter numeric values.\\n\")\n",
    "\n",
    "calculator()"
   ]
  }
 ],
 "metadata": {
  "kernelspec": {
   "display_name": "Python 3",
   "language": "python",
   "name": "python3"
  },
  "language_info": {
   "codemirror_mode": {
    "name": "ipython",
    "version": 3
   },
   "file_extension": ".py",
   "mimetype": "text/x-python",
   "name": "python",
   "nbconvert_exporter": "python",
   "pygments_lexer": "ipython3",
   "version": "3.13.4"
  }
 },
 "nbformat": 4,
 "nbformat_minor": 5
}
